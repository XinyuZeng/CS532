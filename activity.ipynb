{
 "cells": [
  {
   "cell_type": "markdown",
   "metadata": {
    "collapsed": false
   },
   "source": [
    "# Independent Component Analysis Main Activity\n",
    "*Final Project Group 15*\n",
    "\n",
    "*ECE 532 Spring 2020*"
   ]
  },
  {
   "cell_type": "code",
   "execution_count": 0,
   "metadata": {
    "collapsed": false
   },
   "outputs": [
   ],
   "source": [
    "import numpy as np\n",
    "from scipy import signal\n",
    "from matplotlib import pyplot as plt\n",
    "from sklearn.decomposition import FastICA"
   ]
  },
  {
   "cell_type": "code",
   "execution_count": 0,
   "metadata": {
    "collapsed": false
   },
   "outputs": [
   ],
   "source": [
    "def plot_signal_matrix(X, title=\"figure\"):\n",
    "    plot = plt.figure()\n",
    "    X = X.T\n",
    "    for x in X:\n",
    "        plt.plot(x)\n",
    "    plt.title(title)"
   ]
  },
  {
   "cell_type": "code",
   "execution_count": 0,
   "metadata": {
    "collapsed": false
   },
   "outputs": [
   ],
   "source": [
    "n = 1000 # number of samples for our signal\n",
    "t = np.linspace(0, 5, n) # the evenly spaced interval for our signal\n",
    "\n",
    "s1 = signal.sawtooth(2 * np.pi * t)\n",
    "s2 = signal.square(2 * np.pi * t)\n",
    "\n",
    "plot1 = plt.figure(1)\n",
    "plt.plot(t, s1)\n",
    "plt.title(\"signal 1\")\n",
    "plot1 = plt.figure(2)\n",
    "plt.plot(t, s2)\n",
    "plt.title(\"signal 2\")\n",
    "S = np.vstack((np.array(s1), np.array(s2))).T\n",
    "plot_signal_matrix(S, title=\"mixture of original signals\")"
   ]
  },
  {
   "cell_type": "code",
   "execution_count": 0,
   "metadata": {
    "collapsed": false
   },
   "outputs": [
   ],
   "source": [
    "A = np.array(([5, -0.5], [-1.5, 5]))\n",
    "X = S@A\n",
    "plot_signal_matrix(X, title=\"real signals\")"
   ]
  },
  {
   "cell_type": "markdown",
   "metadata": {
    "collapsed": false
   },
   "source": [
    "# 6a"
   ]
  },
  {
   "cell_type": "code",
   "execution_count": 0,
   "metadata": {
    "collapsed": false
   },
   "outputs": [
   ],
   "source": [
    "# 6a\n",
    "# get the principal components of X\n",
    "# plot the principal components by using the function provided above"
   ]
  },
  {
   "cell_type": "markdown",
   "metadata": {
    "collapsed": false
   },
   "source": [
    "# 6b"
   ]
  },
  {
   "cell_type": "code",
   "execution_count": 0,
   "metadata": {
    "collapsed": false
   },
   "outputs": [
   ],
   "source": [
    "# ica = ?\n",
    "# X_hat = ?"
   ]
  },
  {
   "cell_type": "code",
   "execution_count": 0,
   "metadata": {
    "collapsed": false
   },
   "outputs": [
   ],
   "source": [
    "plot1 = plt.figure(1)\n",
    "plt.plot(t, X_hat[:,0])\n",
    "plt.title(\"predicted signal 1\")\n",
    "plot1 = plt.figure(2)\n",
    "plt.plot(t, X_hat[:,1])\n",
    "plt.title(\"predicted signal 2\")\n",
    "plot_signal_matrix(X_hat, title=\"predicted signals\")"
   ]
  },
  {
   "cell_type": "markdown",
   "metadata": {
    "collapsed": false
   },
   "source": [
    "# 7a"
   ]
  },
  {
   "cell_type": "code",
   "execution_count": 0,
   "metadata": {
    "collapsed": false
   },
   "outputs": [
   ],
   "source": [
    "def centering(x):\n",
    "#     return ?\n",
    "    return x - x.mean(axis=1, keepdims=True)"
   ]
  },
  {
   "cell_type": "code",
   "execution_count": 0,
   "metadata": {
    "collapsed": false
   },
   "outputs": [
   ],
   "source": [
    "def whitening(x):\n",
    "    d, E = np.linalg.eig(np.cov(x))\n",
    "    D = np.diag(d)\n",
    "    D_inv_sqrt = np.sqrt(np.linalg.inv(D))\n",
    "\n",
    "    x_whiten = E@D_inv_sqrt@E.T@x\n",
    "#     x_whiten = ?\n",
    "    return x_whiten"
   ]
  },
  {
   "cell_type": "markdown",
   "metadata": {
    "collapsed": false
   },
   "source": [
    "# 7b"
   ]
  },
  {
   "cell_type": "code",
   "execution_count": 0,
   "metadata": {
    "collapsed": false
   },
   "outputs": [
   ],
   "source": [
    "alpha = 1"
   ]
  },
  {
   "cell_type": "code",
   "execution_count": 0,
   "metadata": {
    "collapsed": false
   },
   "outputs": [
   ],
   "source": [
    "def g(x):\n",
    "    return np.tanh(x)*alpha\n",
    "\n",
    "def g_prime(x):\n",
    "    return (1 - g(x)*g(x))*alpha\n",
    "\n",
    "def update_w(w, X):\n",
    "    w_new = np.mean((X * g(w.T@X)), 1) - np.mean(g_prime(w.T@X), 0) * w\n",
    "#     w_new = ?\n",
    "\n",
    "    w_new /= np.linalg.norm(w_new)\n",
    "\n",
    "    return w_new"
   ]
  },
  {
   "cell_type": "code",
   "execution_count": 0,
   "metadata": {
    "collapsed": false
   },
   "outputs": [
   ],
   "source": [
    "def OurFastICA(X, iterations, n_components, tolerance=1e-6):\n",
    "    X = X.T\n",
    "    X = centering(X)\n",
    "    X = whitening(X)\n",
    "\n",
    "    W = np.zeros((n_components, n_components), dtype=X.dtype)\n",
    "\n",
    "    for i in range(n_components):\n",
    "        # choose random initial weight vector\n",
    "        w = np.random.rand(n_components)\n",
    "        for j in range(iterations):\n",
    "            # update w\n",
    "            w_new = update_w(w, X)\n",
    "            # Decorrelate weights\n",
    "            if i >= 1:\n",
    "                w_new -= w_new@W[:i].T@W[:i]\n",
    "            distance = np.sum(np.abs(w - w_new))\n",
    "            w = w_new\n",
    "            # if converge then break\n",
    "            if distance < tolerance:\n",
    "                break\n",
    "        W[i, :] = w\n",
    "    S = np.dot(W, X)\n",
    "    return S.T"
   ]
  },
  {
   "cell_type": "code",
   "execution_count": 0,
   "metadata": {
    "collapsed": false
   },
   "outputs": [
   ],
   "source": [
    "X_hat = OurFastICA(X, 3, len(X[0]), tolerance=1e-6)\n",
    "plot_signal_matrix(X_hat, title=\"predicted signals\")"
   ]
  }
 ],
 "metadata": {
  "kernelspec": {
   "display_name": "Python 3 (system-wide)",
   "language": "python",
   "metadata": {
    "cocalc": {
     "description": "Python 3 programming language",
     "priority": 100,
     "url": "https://www.python.org/"
    }
   },
   "name": "python3"
  },
  "language_info": {
   "codemirror_mode": {
    "name": "ipython",
    "version": 3
   },
   "file_extension": ".py",
   "mimetype": "text/x-python",
   "name": "python",
   "nbconvert_exporter": "python",
   "pygments_lexer": "ipython3",
   "version": "3.6.9"
  }
 },
 "nbformat": 4,
 "nbformat_minor": 4
}